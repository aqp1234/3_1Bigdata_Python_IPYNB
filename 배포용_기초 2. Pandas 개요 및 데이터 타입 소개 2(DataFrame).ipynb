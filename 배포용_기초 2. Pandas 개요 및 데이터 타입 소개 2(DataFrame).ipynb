{
 "cells": [
  {
   "cell_type": "markdown",
   "metadata": {},
   "source": [
    "# 2. Pandas 주요 데이터 타입\n",
    "## 2.2 DataFrame (데이터프레임)\n",
    "<img src=\"img/2강/dataframe구조NEW.jpg\" alt=\"datetime\" style=\"width: 1200px;\"/>"
   ]
  },
  {
   "cell_type": "code",
   "execution_count": null,
   "metadata": {},
   "outputs": [],
   "source": [
    "# Pandas 라이브러리 임포트\n",
    "import pandas as pd \n",
    "from pandas import Series, DataFrame"
   ]
  },
  {
   "cell_type": "markdown",
   "metadata": {},
   "source": [
    "### 2.2.1 데이터프레임 생성\n",
    "### 생성자 인자\n",
    "#### 1) data : dataFrame에 저장할 데이터 (numpy ndarray, dict, DataFrame 등 여러 형태 가능)\n",
    "#### 2) index : 행(row) 이름, 기본값 = 0부터 1씩 증가하는 정수\n",
    "#### 3) columns : 열(column) 이름, 기본값 = 0부터 1씩 증가하는 정수\n",
    "#### 4) dtype : 데이터 형태(type), 만약 지정하지 않으면 파이썬이 자동으로 값의 형태를 보고 결정\n",
    "#### 5) copy : 입력 데이터를 복사할지 지정. 디폴트는 False 임. (복사할 거 아니면 메모리 관리 차원에서 디폴트인 False 설정 사용하면 됨)"
   ]
  },
  {
   "cell_type": "code",
   "execution_count": null,
   "metadata": {},
   "outputs": [],
   "source": [
    "# 1. 2차원 데이터 생성\n",
    "df1 = DataFrame([\n",
    "                                [1,2,3],\n",
    "                                ['kim','park','lee'],\n",
    "                                [1.5, 3.2, 9.1]\n",
    "                           ])\n",
    "df1"
   ]
  },
  {
   "cell_type": "code",
   "execution_count": null,
   "metadata": {},
   "outputs": [],
   "source": [
    "# 2. 로우 인덱스와 컬럼 인덱스 설정\n"
   ]
  },
  {
   "cell_type": "code",
   "execution_count": null,
   "metadata": {},
   "outputs": [],
   "source": [
    "# 1,2를 한꺼번에 하기\n"
   ]
  },
  {
   "cell_type": "code",
   "execution_count": null,
   "metadata": {},
   "outputs": [],
   "source": [
    "# 3. 사전 타입 데이터를 이용하여 데이터 프레임 생성하기\n",
    "인구통계 = {'서울': [1053.5, 1023, 987],\n",
    "        '경기':[1023, 1067, 1123],\n",
    "        '충청':[512,489,487],\n",
    "        '경상':[897, 872, 811],\n",
    "        '전라':[451, 421, 399]\n",
    "      }\n",
    "df3 = DataFrame(인구통계)\n",
    "df3"
   ]
  },
  {
   "cell_type": "markdown",
   "metadata": {},
   "source": [
    "<img src=\"./img/2강/데이터프레임구조1.jpg\" width=\"640\">\n",
    "<img src=\"./img/2강/데이터프레임구조2.jpg\" width=\"480\">"
   ]
  },
  {
   "cell_type": "markdown",
   "metadata": {},
   "source": [
    "### 2.2.2. DataFrame 속성 조회하기 (속성을 조회할 때에는 ()를 사용하지 않으니 유의하기 바람.)"
   ]
  },
  {
   "cell_type": "code",
   "execution_count": null,
   "metadata": {},
   "outputs": [],
   "source": [
    "# df3에 로우 인덱스를 2016, 2017, 2018로 만들기\n"
   ]
  },
  {
   "cell_type": "code",
   "execution_count": null,
   "metadata": {},
   "outputs": [],
   "source": [
    "#1. T (Transpose) : 행과 열을 바꾸기.\n"
   ]
  },
  {
   "cell_type": "code",
   "execution_count": null,
   "metadata": {},
   "outputs": [],
   "source": [
    "#2. axes : 행과 열 이름을 리스트로 반환\n"
   ]
  },
  {
   "cell_type": "code",
   "execution_count": null,
   "metadata": {},
   "outputs": [],
   "source": [
    "#3. dtypes : 데이터 형태 반환\n"
   ]
  },
  {
   "cell_type": "code",
   "execution_count": null,
   "metadata": {},
   "outputs": [],
   "source": [
    "#4. shape : 행과 열의 개수(차원)을 튜플로 반환\n"
   ]
  },
  {
   "cell_type": "code",
   "execution_count": null,
   "metadata": {},
   "outputs": [],
   "source": [
    "#5. size : DataFrame의 원소의 개수를 반환\n"
   ]
  },
  {
   "cell_type": "code",
   "execution_count": null,
   "metadata": {},
   "outputs": [],
   "source": [
    "#6. index : 데이터프레임의 인덱스를 리스트로 반환\n"
   ]
  },
  {
   "cell_type": "code",
   "execution_count": null,
   "metadata": {},
   "outputs": [],
   "source": [
    "#7. columns : 데이터프레임의 컬럼을 리스트로 반환\n"
   ]
  },
  {
   "cell_type": "code",
   "execution_count": null,
   "metadata": {},
   "outputs": [],
   "source": [
    "#8. values : 데이터프레임의 값들을 반환\n"
   ]
  },
  {
   "cell_type": "markdown",
   "metadata": {},
   "source": [
    "### 2.2.3. 데이터프레임 조회하기"
   ]
  },
  {
   "cell_type": "code",
   "execution_count": null,
   "metadata": {},
   "outputs": [],
   "source": [
    "# 테스트 데이터프레임 생성\n",
    "df4 = DataFrame({'Class': ['IoT','Network', 'Economy','Big Data', 'Cloud'],\n",
    "                       'Year': [2018, 2017, 2018, 2018, 2019],\n",
    "                       'Price': [100, 125, 132, 312, 250],\n",
    "                       'Location': ['Korea','Korea', 'Korea', 'US','Korea']},\n",
    "                      index=['C01','C02','C03', 'C04', 'C05'])\n",
    "df4"
   ]
  },
  {
   "cell_type": "markdown",
   "metadata": {},
   "source": [
    "## **데이터프레임 조회 규칙 **\n",
    "### 로우 인덱스는 숫자 슬라이싱이 되지만, 컬럼은 불가능하다. (컬럼은 순서 개념이 없음)\n",
    "### 기본적으로 \"컬럼\"을 먼저 인덱싱한다. \n",
    "<img src=\"./img/2강/데이터프레임조회NEW.jpg\" width=\"900\">"
   ]
  },
  {
   "cell_type": "code",
   "execution_count": null,
   "metadata": {},
   "outputs": [],
   "source": [
    "# 1) Location만 조회하기\n"
   ]
  },
  {
   "cell_type": "code",
   "execution_count": null,
   "metadata": {},
   "outputs": [],
   "source": [
    "# 2) Class와 Price만 조회하기\n",
    "# 여러 개의 컬럼들을 조회하기 위해서는 컬럼명들을 리스트로 선언해야 함.\n"
   ]
  },
  {
   "cell_type": "code",
   "execution_count": null,
   "metadata": {},
   "outputs": [],
   "source": [
    "# 3) 로우를 로우 인덱스로 접근하여 조회하기 (loc)\n",
    "# 로우 인덱스가 'C04'인 경우만 조회하기\n"
   ]
  },
  {
   "cell_type": "code",
   "execution_count": null,
   "metadata": {
    "scrolled": true
   },
   "outputs": [],
   "source": [
    "# 4) 로우를 숫자 인덱스로 접근하여 조회하기 (iloc)\n",
    "# 3번째 로우(row) 조회하기\n"
   ]
  },
  {
   "cell_type": "code",
   "execution_count": null,
   "metadata": {},
   "outputs": [],
   "source": [
    "# 5) 숫자 인덱스로 슬라이싱하기 (start index는 포함되지만, end index는 포함 안됨.)\n",
    "# 숫자 인덱스가 1~4까지 데이터만 조회하기\n"
   ]
  },
  {
   "cell_type": "code",
   "execution_count": null,
   "metadata": {},
   "outputs": [],
   "source": [
    "# 기본적으로 인덱싱을 하면, 컬럼을 기준으로 탐색을 하지만, 슬라이싱은 컬럼에 적용할 수 없기 때문에 로우에 적용된다. \n"
   ]
  },
  {
   "cell_type": "code",
   "execution_count": null,
   "metadata": {},
   "outputs": [],
   "source": [
    "# 6) 로우 인덱스로 슬라이싱하기 (start index와 end index 모두 포함)\n",
    "# C02~C04까지 조회\n"
   ]
  },
  {
   "cell_type": "code",
   "execution_count": null,
   "metadata": {
    "scrolled": true
   },
   "outputs": [],
   "source": [
    "# 7. 특정 컬럼과 로우를 동시에 인덱싱하기\n",
    "# C02, C03 강의의 Class와 Year만 조회"
   ]
  },
  {
   "cell_type": "code",
   "execution_count": null,
   "metadata": {},
   "outputs": [],
   "source": [
    "# 8. 조건 인덱싱 \n",
    "# Price가 200보다 큰 강의만 조회하기\n"
   ]
  },
  {
   "cell_type": "code",
   "execution_count": null,
   "metadata": {},
   "outputs": [],
   "source": []
  },
  {
   "cell_type": "code",
   "execution_count": null,
   "metadata": {},
   "outputs": [],
   "source": [
    "# 아래 결과들이 출력되도록 코드를 완성하시오.\n",
    "# 실습 1. 'Class' 컬럼만 출력\n"
   ]
  },
  {
   "cell_type": "code",
   "execution_count": null,
   "metadata": {},
   "outputs": [],
   "source": [
    "# 실습 2. 'Class'와 'Location' 컬럼만 조회\n"
   ]
  },
  {
   "cell_type": "code",
   "execution_count": null,
   "metadata": {},
   "outputs": [],
   "source": [
    "# 실습 3. C01과 C03 강의의 모든 컬럼 조회\n"
   ]
  },
  {
   "cell_type": "code",
   "execution_count": null,
   "metadata": {},
   "outputs": [],
   "source": [
    "# 실습 4. C01~C03 강의의 Class와 Price만 조회\n"
   ]
  },
  {
   "cell_type": "code",
   "execution_count": null,
   "metadata": {},
   "outputs": [],
   "source": [
    "# 실습 5. 가장 가격이 비싼 강의 정보 조회"
   ]
  },
  {
   "cell_type": "markdown",
   "metadata": {},
   "source": [
    "### 2.2.4. 데이터프레임에 새로운 컬럼 추가하기"
   ]
  },
  {
   "cell_type": "code",
   "execution_count": null,
   "metadata": {},
   "outputs": [],
   "source": [
    "# 컬럼 추가하기 1.\n",
    "# limitStudent 컬럼(정원)을 추가하고, 값을 모두 30으로 저장\n"
   ]
  },
  {
   "cell_type": "code",
   "execution_count": null,
   "metadata": {},
   "outputs": [],
   "source": [
    "# 컬럼 추가하기 2.\n",
    "# numStudent 컬럼(수강학생수)을 추가하고, 값을 25,30,10,23,17로 저장 \n"
   ]
  },
  {
   "cell_type": "code",
   "execution_count": null,
   "metadata": {},
   "outputs": [],
   "source": [
    "# 컬럼 추가하기 3 - 기존 컬럼을 이용하여 새 컬럼 추가하기\n",
    "# income 컬럼을 추가하고, price와 numStudent 값을 곱한 값으로 할당\n"
   ]
  },
  {
   "cell_type": "code",
   "execution_count": null,
   "metadata": {},
   "outputs": [],
   "source": [
    "# 실습 6. rate 컬럼을 추가하고, 충원율을 계산하여 할당. \n"
   ]
  },
  {
   "cell_type": "markdown",
   "metadata": {},
   "source": [
    "### 2.2.5.데이터프레임 로우, 컬럼 삭제"
   ]
  },
  {
   "cell_type": "code",
   "execution_count": null,
   "metadata": {},
   "outputs": [],
   "source": [
    "# drop() 함수 사용 (원본 변경 X)\n",
    "## 첫번째 인자 - 지우고자 하는 인덱스명 (로우 인덱스, 컬럼 인덱스 모두 가능)\n",
    "## 두번째 인자 (axis)- 0 혹은 1. 0 = 로우 삭제, 1 = 컬럼 삭제"
   ]
  },
  {
   "cell_type": "code",
   "execution_count": null,
   "metadata": {
    "scrolled": true
   },
   "outputs": [],
   "source": [
    "# 로우 인덱스가 'C05'인 로우(row) 삭제\n"
   ]
  },
  {
   "cell_type": "code",
   "execution_count": null,
   "metadata": {},
   "outputs": [],
   "source": [
    "# 'income' 컬럼 삭제\n"
   ]
  },
  {
   "cell_type": "code",
   "execution_count": null,
   "metadata": {},
   "outputs": [],
   "source": [
    "# 원본 변경을 위해서는 다시 변수에 할당해야 함. \n"
   ]
  },
  {
   "cell_type": "code",
   "execution_count": null,
   "metadata": {},
   "outputs": [],
   "source": [
    "# 실습 7. 수강생이 가장 작은 클래스 삭제\n",
    "# Economy 과목을 삭제하지 말고, 조건색인을 활용하여 수강생이 가장 작은 클래스를 찾아낸 후에 삭제하기\n"
   ]
  }
 ],
 "metadata": {
  "kernelspec": {
   "display_name": "Python 3",
   "language": "python",
   "name": "python3"
  },
  "language_info": {
   "codemirror_mode": {
    "name": "ipython",
    "version": 3
   },
   "file_extension": ".py",
   "mimetype": "text/x-python",
   "name": "python",
   "nbconvert_exporter": "python",
   "pygments_lexer": "ipython3",
   "version": "3.7.3"
  },
  "toc": {
   "base_numbering": 1,
   "nav_menu": {},
   "number_sections": true,
   "sideBar": true,
   "skip_h1_title": false,
   "title_cell": "Table of Contents",
   "title_sidebar": "Contents",
   "toc_cell": false,
   "toc_position": {},
   "toc_section_display": true,
   "toc_window_display": false
  }
 },
 "nbformat": 4,
 "nbformat_minor": 2
}
